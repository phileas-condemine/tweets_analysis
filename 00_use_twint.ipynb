{
 "cells": [
  {
   "cell_type": "code",
   "execution_count": 3,
   "metadata": {},
   "outputs": [
    {
     "ename": "SyntaxError",
     "evalue": "EOL while scanning string literal (<ipython-input-3-2f45e53527f3>, line 1)",
     "output_type": "error",
     "traceback": [
      "\u001b[0;36m  File \u001b[0;32m\"<ipython-input-3-2f45e53527f3>\"\u001b[0;36m, line \u001b[0;32m1\u001b[0m\n\u001b[0;31m    home/pcondemine/anaconda3/bin/python(-m, pip, install, --upgrade, pip')\u001b[0m\n\u001b[0m                                                                           ^\u001b[0m\n\u001b[0;31mSyntaxError\u001b[0m\u001b[0;31m:\u001b[0m EOL while scanning string literal\n"
     ]
    }
   ],
   "source": []
  },
  {
   "cell_type": "code",
   "execution_count": 7,
   "metadata": {},
   "outputs": [
    {
     "name": "stdout",
     "output_type": "stream",
     "text": [
      "Requirement already satisfied: twint in /home/pcondemine/anaconda3/lib/python3.8/site-packages (2.1.20)\n",
      "Requirement already satisfied: elasticsearch in /home/pcondemine/anaconda3/lib/python3.8/site-packages (from twint) (7.15.1)\n",
      "Requirement already satisfied: schedule in /home/pcondemine/anaconda3/lib/python3.8/site-packages (from twint) (1.1.0)\n",
      "Requirement already satisfied: beautifulsoup4 in /home/pcondemine/anaconda3/lib/python3.8/site-packages (from twint) (4.9.1)\n",
      "Requirement already satisfied: cchardet in /home/pcondemine/anaconda3/lib/python3.8/site-packages (from twint) (2.1.7)\n",
      "Requirement already satisfied: geopy in /home/pcondemine/anaconda3/lib/python3.8/site-packages (from twint) (2.2.0)\n",
      "Requirement already satisfied: aiohttp-socks in /home/pcondemine/anaconda3/lib/python3.8/site-packages (from twint) (0.6.0)\n",
      "Requirement already satisfied: aiohttp in /home/pcondemine/anaconda3/lib/python3.8/site-packages (from twint) (3.8.0)\n",
      "Requirement already satisfied: pysocks in /home/pcondemine/anaconda3/lib/python3.8/site-packages (from twint) (1.7.1)\n",
      "Requirement already satisfied: googletransx in /home/pcondemine/anaconda3/lib/python3.8/site-packages (from twint) (2.4.2)\n",
      "Requirement already satisfied: pandas in /home/pcondemine/anaconda3/lib/python3.8/site-packages (from twint) (1.0.5)\n",
      "Requirement already satisfied: fake-useragent in /home/pcondemine/anaconda3/lib/python3.8/site-packages (from twint) (0.1.11)\n",
      "Requirement already satisfied: aiodns in /home/pcondemine/anaconda3/lib/python3.8/site-packages (from twint) (3.0.0)\n",
      "Requirement already satisfied: pycares>=4.0.0 in /home/pcondemine/anaconda3/lib/python3.8/site-packages (from aiodns->twint) (4.1.2)\n",
      "Requirement already satisfied: aiosignal>=1.1.2 in /home/pcondemine/anaconda3/lib/python3.8/site-packages (from aiohttp->twint) (1.2.0)\n",
      "Requirement already satisfied: multidict<7.0,>=4.5 in /home/pcondemine/anaconda3/lib/python3.8/site-packages (from aiohttp->twint) (5.2.0)\n",
      "Requirement already satisfied: charset-normalizer<3.0,>=2.0 in /home/pcondemine/anaconda3/lib/python3.8/site-packages (from aiohttp->twint) (2.0.7)\n",
      "Requirement already satisfied: yarl<2.0,>=1.0 in /home/pcondemine/anaconda3/lib/python3.8/site-packages (from aiohttp->twint) (1.7.2)\n",
      "Requirement already satisfied: attrs>=17.3.0 in /home/pcondemine/anaconda3/lib/python3.8/site-packages (from aiohttp->twint) (19.3.0)\n",
      "Requirement already satisfied: async-timeout<5.0,>=4.0.0a3 in /home/pcondemine/anaconda3/lib/python3.8/site-packages (from aiohttp->twint) (4.0.0)\n",
      "Requirement already satisfied: frozenlist>=1.1.1 in /home/pcondemine/anaconda3/lib/python3.8/site-packages (from aiohttp->twint) (1.2.0)\n",
      "Requirement already satisfied: python-socks[asyncio]>=1.2.2 in /home/pcondemine/anaconda3/lib/python3.8/site-packages (from aiohttp-socks->twint) (1.2.4)\n",
      "Requirement already satisfied: soupsieve>1.2 in /home/pcondemine/anaconda3/lib/python3.8/site-packages (from beautifulsoup4->twint) (2.0.1)\n",
      "Requirement already satisfied: urllib3<2,>=1.21.1 in /home/pcondemine/anaconda3/lib/python3.8/site-packages (from elasticsearch->twint) (1.25.9)\n",
      "Requirement already satisfied: certifi in /home/pcondemine/anaconda3/lib/python3.8/site-packages (from elasticsearch->twint) (2020.6.20)\n",
      "Requirement already satisfied: geographiclib<2,>=1.49 in /home/pcondemine/anaconda3/lib/python3.8/site-packages (from geopy->twint) (1.52)\n",
      "Requirement already satisfied: requests in /home/pcondemine/anaconda3/lib/python3.8/site-packages (from googletransx->twint) (2.24.0)\n",
      "Requirement already satisfied: python-dateutil>=2.6.1 in /home/pcondemine/anaconda3/lib/python3.8/site-packages (from pandas->twint) (2.8.1)\n",
      "Requirement already satisfied: numpy>=1.13.3 in /home/pcondemine/anaconda3/lib/python3.8/site-packages (from pandas->twint) (1.19.4)\n",
      "Requirement already satisfied: pytz>=2017.2 in /home/pcondemine/anaconda3/lib/python3.8/site-packages (from pandas->twint) (2020.1)\n",
      "Requirement already satisfied: typing-extensions>=3.6.5 in /home/pcondemine/anaconda3/lib/python3.8/site-packages (from async-timeout<5.0,>=4.0.0a3->aiohttp->twint) (3.7.4.2)\n",
      "Requirement already satisfied: cffi>=1.5.0 in /home/pcondemine/anaconda3/lib/python3.8/site-packages (from pycares>=4.0.0->aiodns->twint) (1.14.0)\n",
      "Requirement already satisfied: six>=1.5 in /home/pcondemine/anaconda3/lib/python3.8/site-packages (from python-dateutil>=2.6.1->pandas->twint) (1.15.0)\n",
      "Requirement already satisfied: idna>=2.0 in /home/pcondemine/anaconda3/lib/python3.8/site-packages (from yarl<2.0,>=1.0->aiohttp->twint) (2.10)\n",
      "Requirement already satisfied: chardet<4,>=3.0.2 in /home/pcondemine/anaconda3/lib/python3.8/site-packages (from requests->googletransx->twint) (3.0.4)\n",
      "Requirement already satisfied: pycparser in /home/pcondemine/anaconda3/lib/python3.8/site-packages (from cffi>=1.5.0->pycares>=4.0.0->aiodns->twint) (2.20)\n"
     ]
    }
   ],
   "source": [
    "!pip3 install twint"
   ]
  },
  {
   "cell_type": "code",
   "execution_count": 8,
   "metadata": {},
   "outputs": [],
   "source": [
    "import twint\n",
    "\n",
    "# Configure\n",
    "c = twint.Config()\n",
    "c.Username = \"realDonaldTrump\"\n",
    "c.Search = \"great\""
   ]
  },
  {
   "cell_type": "code",
   "execution_count": 9,
   "metadata": {},
   "outputs": [
    {
     "ename": "RuntimeError",
     "evalue": "This event loop is already running",
     "output_type": "error",
     "traceback": [
      "\u001b[0;31m---------------------------------------------------------------------------\u001b[0m",
      "\u001b[0;31mRuntimeError\u001b[0m                              Traceback (most recent call last)",
      "\u001b[0;32m<ipython-input-9-a70856039f52>\u001b[0m in \u001b[0;36m<module>\u001b[0;34m\u001b[0m\n\u001b[1;32m      1\u001b[0m \u001b[0;31m# Run\u001b[0m\u001b[0;34m\u001b[0m\u001b[0;34m\u001b[0m\u001b[0;34m\u001b[0m\u001b[0m\n\u001b[0;32m----> 2\u001b[0;31m \u001b[0mtwint\u001b[0m\u001b[0;34m.\u001b[0m\u001b[0mrun\u001b[0m\u001b[0;34m.\u001b[0m\u001b[0mSearch\u001b[0m\u001b[0;34m(\u001b[0m\u001b[0mc\u001b[0m\u001b[0;34m)\u001b[0m\u001b[0;34m\u001b[0m\u001b[0;34m\u001b[0m\u001b[0m\n\u001b[0m",
      "\u001b[0;32m~/anaconda3/lib/python3.8/site-packages/twint/run.py\u001b[0m in \u001b[0;36mSearch\u001b[0;34m(config, callback)\u001b[0m\n\u001b[1;32m    325\u001b[0m     \u001b[0mconfig\u001b[0m\u001b[0;34m.\u001b[0m\u001b[0mProfile\u001b[0m \u001b[0;34m=\u001b[0m \u001b[0;32mFalse\u001b[0m\u001b[0;34m\u001b[0m\u001b[0;34m\u001b[0m\u001b[0m\n\u001b[1;32m    326\u001b[0m     \u001b[0mconfig\u001b[0m\u001b[0;34m.\u001b[0m\u001b[0mProfile_full\u001b[0m \u001b[0;34m=\u001b[0m \u001b[0;32mFalse\u001b[0m\u001b[0;34m\u001b[0m\u001b[0;34m\u001b[0m\u001b[0m\n\u001b[0;32m--> 327\u001b[0;31m     \u001b[0mrun\u001b[0m\u001b[0;34m(\u001b[0m\u001b[0mconfig\u001b[0m\u001b[0;34m,\u001b[0m \u001b[0mcallback\u001b[0m\u001b[0;34m)\u001b[0m\u001b[0;34m\u001b[0m\u001b[0;34m\u001b[0m\u001b[0m\n\u001b[0m\u001b[1;32m    328\u001b[0m     \u001b[0;32mif\u001b[0m \u001b[0mconfig\u001b[0m\u001b[0;34m.\u001b[0m\u001b[0mPandas_au\u001b[0m\u001b[0;34m:\u001b[0m\u001b[0;34m\u001b[0m\u001b[0;34m\u001b[0m\u001b[0m\n\u001b[1;32m    329\u001b[0m         \u001b[0mstorage\u001b[0m\u001b[0;34m.\u001b[0m\u001b[0mpanda\u001b[0m\u001b[0;34m.\u001b[0m\u001b[0m_autoget\u001b[0m\u001b[0;34m(\u001b[0m\u001b[0;34m\"tweet\"\u001b[0m\u001b[0;34m)\u001b[0m\u001b[0;34m\u001b[0m\u001b[0;34m\u001b[0m\u001b[0m\n",
      "\u001b[0;32m~/anaconda3/lib/python3.8/site-packages/twint/run.py\u001b[0m in \u001b[0;36mrun\u001b[0;34m(config, callback)\u001b[0m\n\u001b[1;32m    224\u001b[0m         \u001b[0;32mraise\u001b[0m\u001b[0;34m\u001b[0m\u001b[0;34m\u001b[0m\u001b[0m\n\u001b[1;32m    225\u001b[0m \u001b[0;34m\u001b[0m\u001b[0m\n\u001b[0;32m--> 226\u001b[0;31m     \u001b[0mget_event_loop\u001b[0m\u001b[0;34m(\u001b[0m\u001b[0;34m)\u001b[0m\u001b[0;34m.\u001b[0m\u001b[0mrun_until_complete\u001b[0m\u001b[0;34m(\u001b[0m\u001b[0mTwint\u001b[0m\u001b[0;34m(\u001b[0m\u001b[0mconfig\u001b[0m\u001b[0;34m)\u001b[0m\u001b[0;34m.\u001b[0m\u001b[0mmain\u001b[0m\u001b[0;34m(\u001b[0m\u001b[0mcallback\u001b[0m\u001b[0;34m)\u001b[0m\u001b[0;34m)\u001b[0m\u001b[0;34m\u001b[0m\u001b[0;34m\u001b[0m\u001b[0m\n\u001b[0m\u001b[1;32m    227\u001b[0m \u001b[0;34m\u001b[0m\u001b[0m\n\u001b[1;32m    228\u001b[0m \u001b[0;32mdef\u001b[0m \u001b[0mFavorites\u001b[0m\u001b[0;34m(\u001b[0m\u001b[0mconfig\u001b[0m\u001b[0;34m)\u001b[0m\u001b[0;34m:\u001b[0m\u001b[0;34m\u001b[0m\u001b[0;34m\u001b[0m\u001b[0m\n",
      "\u001b[0;32m~/anaconda3/lib/python3.8/asyncio/base_events.py\u001b[0m in \u001b[0;36mrun_until_complete\u001b[0;34m(self, future)\u001b[0m\n\u001b[1;32m    590\u001b[0m         \"\"\"\n\u001b[1;32m    591\u001b[0m         \u001b[0mself\u001b[0m\u001b[0;34m.\u001b[0m\u001b[0m_check_closed\u001b[0m\u001b[0;34m(\u001b[0m\u001b[0;34m)\u001b[0m\u001b[0;34m\u001b[0m\u001b[0;34m\u001b[0m\u001b[0m\n\u001b[0;32m--> 592\u001b[0;31m         \u001b[0mself\u001b[0m\u001b[0;34m.\u001b[0m\u001b[0m_check_running\u001b[0m\u001b[0;34m(\u001b[0m\u001b[0;34m)\u001b[0m\u001b[0;34m\u001b[0m\u001b[0;34m\u001b[0m\u001b[0m\n\u001b[0m\u001b[1;32m    593\u001b[0m \u001b[0;34m\u001b[0m\u001b[0m\n\u001b[1;32m    594\u001b[0m         \u001b[0mnew_task\u001b[0m \u001b[0;34m=\u001b[0m \u001b[0;32mnot\u001b[0m \u001b[0mfutures\u001b[0m\u001b[0;34m.\u001b[0m\u001b[0misfuture\u001b[0m\u001b[0;34m(\u001b[0m\u001b[0mfuture\u001b[0m\u001b[0;34m)\u001b[0m\u001b[0;34m\u001b[0m\u001b[0;34m\u001b[0m\u001b[0m\n",
      "\u001b[0;32m~/anaconda3/lib/python3.8/asyncio/base_events.py\u001b[0m in \u001b[0;36m_check_running\u001b[0;34m(self)\u001b[0m\n\u001b[1;32m    550\u001b[0m     \u001b[0;32mdef\u001b[0m \u001b[0m_check_running\u001b[0m\u001b[0;34m(\u001b[0m\u001b[0mself\u001b[0m\u001b[0;34m)\u001b[0m\u001b[0;34m:\u001b[0m\u001b[0;34m\u001b[0m\u001b[0;34m\u001b[0m\u001b[0m\n\u001b[1;32m    551\u001b[0m         \u001b[0;32mif\u001b[0m \u001b[0mself\u001b[0m\u001b[0;34m.\u001b[0m\u001b[0mis_running\u001b[0m\u001b[0;34m(\u001b[0m\u001b[0;34m)\u001b[0m\u001b[0;34m:\u001b[0m\u001b[0;34m\u001b[0m\u001b[0;34m\u001b[0m\u001b[0m\n\u001b[0;32m--> 552\u001b[0;31m             \u001b[0;32mraise\u001b[0m \u001b[0mRuntimeError\u001b[0m\u001b[0;34m(\u001b[0m\u001b[0;34m'This event loop is already running'\u001b[0m\u001b[0;34m)\u001b[0m\u001b[0;34m\u001b[0m\u001b[0;34m\u001b[0m\u001b[0m\n\u001b[0m\u001b[1;32m    553\u001b[0m         \u001b[0;32mif\u001b[0m \u001b[0mevents\u001b[0m\u001b[0;34m.\u001b[0m\u001b[0m_get_running_loop\u001b[0m\u001b[0;34m(\u001b[0m\u001b[0;34m)\u001b[0m \u001b[0;32mis\u001b[0m \u001b[0;32mnot\u001b[0m \u001b[0;32mNone\u001b[0m\u001b[0;34m:\u001b[0m\u001b[0;34m\u001b[0m\u001b[0;34m\u001b[0m\u001b[0m\n\u001b[1;32m    554\u001b[0m             raise RuntimeError(\n",
      "\u001b[0;31mRuntimeError\u001b[0m: This event loop is already running"
     ]
    }
   ],
   "source": [
    "# Run\n",
    "twint.run.Search(c)"
   ]
  },
  {
   "cell_type": "code",
   "execution_count": null,
   "metadata": {},
   "outputs": [],
   "source": []
  }
 ],
 "metadata": {
  "kernelspec": {
   "display_name": "Python 3",
   "language": "python",
   "name": "python3"
  },
  "language_info": {
   "codemirror_mode": {
    "name": "ipython",
    "version": 3
   },
   "file_extension": ".py",
   "mimetype": "text/x-python",
   "name": "python",
   "nbconvert_exporter": "python",
   "pygments_lexer": "ipython3",
   "version": "3.8.3"
  }
 },
 "nbformat": 4,
 "nbformat_minor": 4
}
